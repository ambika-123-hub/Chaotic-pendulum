{
 "cells": [
  {
   "cell_type": "code",
   "execution_count": 1,
   "id": "faa24c70",
   "metadata": {},
   "outputs": [
    {
     "ename": "Terminator",
     "evalue": "",
     "output_type": "error",
     "traceback": [
      "\u001b[1;31m---------------------------------------------------------------------------\u001b[0m",
      "\u001b[1;31mTerminator\u001b[0m                                Traceback (most recent call last)",
      "\u001b[1;32m~\\AppData\\Local\\Temp\\ipykernel_6472\\104376025.py\u001b[0m in \u001b[0;36m<module>\u001b[1;34m\u001b[0m\n\u001b[0;32m     57\u001b[0m     \u001b[0mi\u001b[0m\u001b[1;33m=\u001b[0m\u001b[0mj\u001b[0m\u001b[1;31m#*random.random()\u001b[0m\u001b[1;33m\u001b[0m\u001b[1;33m\u001b[0m\u001b[0m\n\u001b[0;32m     58\u001b[0m     \u001b[1;32mwhile\u001b[0m \u001b[0mi\u001b[0m\u001b[1;33m<\u001b[0m\u001b[1;36m5\u001b[0m\u001b[1;33m:\u001b[0m\u001b[1;33m\u001b[0m\u001b[1;33m\u001b[0m\u001b[0m\n\u001b[1;32m---> 59\u001b[1;33m         \u001b[0mchaotic_pendulum\u001b[0m\u001b[1;33m(\u001b[0m\u001b[0mi\u001b[0m\u001b[1;33m,\u001b[0m\u001b[0mv\u001b[0m\u001b[1;33m,\u001b[0m\u001b[0mtmax\u001b[0m\u001b[1;33m)\u001b[0m\u001b[1;33m\u001b[0m\u001b[1;33m\u001b[0m\u001b[0m\n\u001b[0m\u001b[0;32m     60\u001b[0m         \u001b[0mi\u001b[0m\u001b[1;33m=\u001b[0m\u001b[0mi\u001b[0m\u001b[1;33m+\u001b[0m\u001b[1;36m0.1\u001b[0m\u001b[1;33m\u001b[0m\u001b[1;33m\u001b[0m\u001b[0m\n\u001b[0;32m     61\u001b[0m \u001b[1;33m\u001b[0m\u001b[0m\n",
      "\u001b[1;32m~\\AppData\\Local\\Temp\\ipykernel_6472\\104376025.py\u001b[0m in \u001b[0;36mchaotic_pendulum\u001b[1;34m(x, v, tmax)\u001b[0m\n\u001b[0;32m     42\u001b[0m         \u001b[0mturtle\u001b[0m\u001b[1;33m.\u001b[0m\u001b[0mcolor\u001b[0m\u001b[1;33m(\u001b[0m\u001b[0mrandom\u001b[0m\u001b[1;33m.\u001b[0m\u001b[0mrandom\u001b[0m\u001b[1;33m(\u001b[0m\u001b[1;33m)\u001b[0m\u001b[1;33m,\u001b[0m \u001b[0mrandom\u001b[0m\u001b[1;33m.\u001b[0m\u001b[0mrandom\u001b[0m\u001b[1;33m(\u001b[0m\u001b[1;33m)\u001b[0m\u001b[1;33m,\u001b[0m \u001b[0mrandom\u001b[0m\u001b[1;33m.\u001b[0m\u001b[0mrandom\u001b[0m\u001b[1;33m(\u001b[0m\u001b[1;33m)\u001b[0m\u001b[1;33m)\u001b[0m\u001b[1;33m\u001b[0m\u001b[1;33m\u001b[0m\u001b[0m\n\u001b[0;32m     43\u001b[0m         \u001b[0mturtle\u001b[0m\u001b[1;33m.\u001b[0m\u001b[0mbegin_fill\u001b[0m\u001b[1;33m(\u001b[0m\u001b[1;33m)\u001b[0m\u001b[1;33m\u001b[0m\u001b[1;33m\u001b[0m\u001b[0m\n\u001b[1;32m---> 44\u001b[1;33m         \u001b[0mturtle\u001b[0m\u001b[1;33m.\u001b[0m\u001b[0mgoto\u001b[0m\u001b[1;33m(\u001b[0m\u001b[0mx\u001b[0m\u001b[1;33m,\u001b[0m\u001b[0mv\u001b[0m\u001b[1;33m)\u001b[0m\u001b[1;33m\u001b[0m\u001b[1;33m\u001b[0m\u001b[0m\n\u001b[0m\u001b[0;32m     45\u001b[0m \u001b[1;33m\u001b[0m\u001b[0m\n\u001b[0;32m     46\u001b[0m         \u001b[1;31m#update next value of x\u001b[0m\u001b[1;33m\u001b[0m\u001b[1;33m\u001b[0m\u001b[0m\n",
      "\u001b[1;32m~\\anaconda3\\lib\\turtle.py\u001b[0m in \u001b[0;36mgoto\u001b[1;34m(x, y)\u001b[0m\n",
      "\u001b[1;31mTerminator\u001b[0m: "
     ]
    }
   ],
   "source": [
    "import numpy as np\n",
    "import math\n",
    "import turtle\n",
    "import random\n",
    "\n",
    "turtle.setworldcoordinates(-2*3.14,-2*3,2*3.14,2*3)\n",
    "\n",
    "turtle.title(\"Chaotic Pendulum -pi to pi\")\n",
    "window=turtle.Screen()\n",
    "window.bgcolor(\"black\")\n",
    "turtle.pensize(2)\n",
    "turtle.speed(20)\n",
    "tmax=10 #float(input(\"Maximum Time: \"))\n",
    "h=0.1 #float(input(\"Step size: \"))\n",
    "x=1 #float(input(\"Initial angular Displacement (rad): \"))\n",
    "v=1 # float(input(\"Initial angular velocity(rad/s): \"))\n",
    "c=0 #float(input(\"Damping coefficient: \"))\n",
    "f0=0 # float(input(\"Amplitude of driving force: \"))\n",
    "\n",
    "# Define acceleration function \n",
    "#Simple pendulum of equation of motion (F=-c*v-(1+f0*cos(w*t))*sin(x))\n",
    "\n",
    "def dydx(x,v,t):\n",
    "    w=v/x\n",
    "    return(-c*v-(1+f0*np.cos(w*t))*np.sin(x))\n",
    "\n",
    "    \n",
    "def chaotic_pendulum(x,v,tmax):\n",
    "    #\"Apply Runge Kutta formula to find next value of y\"\n",
    "    t=1\n",
    "    turtle.up()\n",
    "    turtle.goto(x,v)\n",
    "    turtle.down()\n",
    "        \n",
    "    while t<tmax:\n",
    "        \n",
    "        k1=h*dydx(x,v,t)\n",
    "        k2=h*dydx(x+0.5*h*v,v+0.5*k1,t+0.5*h)\n",
    "        k3=h*dydx(x+0.5*h*v+0.25*h*k1, v+0.5*k2, t+0.5*h)\n",
    "        k4=h*dydx(x+h*v+h*0.5*k2, v+k3, t+h)\n",
    "        \n",
    "        turtle.color(random.random(), random.random(), random.random())\n",
    "        turtle.begin_fill()\n",
    "        turtle.goto(x,v)\n",
    "        \n",
    "        #update next value of x\n",
    "        x=x+h*(v+(k1+k2+k3)*(1.0/6.0))\n",
    "        \n",
    "        # update next value of v\n",
    "        v=v+(k1+2*k2+2*k3+k4)*(1.0/6.0)\n",
    "                \n",
    "         # update next value of t\n",
    "        t=t+h\n",
    "    turtle.end_fill()\n",
    "#______________________________________________________________________________________-\n",
    "for j in range(1,2):\n",
    "    i=j#*random.random()\n",
    "    while i<5:\n",
    "        chaotic_pendulum(i,v,tmax)\n",
    "        i=i+0.1\n",
    "    \n"
   ]
  }
 ],
 "metadata": {
  "kernelspec": {
   "display_name": "Python 3 (ipykernel)",
   "language": "python",
   "name": "python3"
  },
  "language_info": {
   "codemirror_mode": {
    "name": "ipython",
    "version": 3
   },
   "file_extension": ".py",
   "mimetype": "text/x-python",
   "name": "python",
   "nbconvert_exporter": "python",
   "pygments_lexer": "ipython3",
   "version": "3.9.13"
  }
 },
 "nbformat": 4,
 "nbformat_minor": 5
}
